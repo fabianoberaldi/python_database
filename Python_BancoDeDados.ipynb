{
 "cells": [
  {
   "cell_type": "markdown",
   "metadata": {},
   "source": [
    "# PYTHON \n",
    "## Utilizando python para acessar um banco de dados relacional"
   ]
  },
  {
   "cell_type": "markdown",
   "metadata": {},
   "source": [
    "### Neste tutorial, serão utilizados:\n",
    "#### BANCO DE DADOS\n",
    "<p>\n",
    "    O banco de dados que será utilizado é o SQLite (SQLite Sample Database). Você pode obter este banco de dados de exemplo atravé do link https://www.sqlitetutorial.net/sqlite-sample-database/\n",
    "</p>\n"
   ]
  },
  {
   "cell_type": "markdown",
   "metadata": {},
   "source": [
    "### 1º Passo - Importar as bibliotecas necessárias\n",
    "#### BIBLIOTECAS PYTHON\n",
    "<ul>\n",
    "    <li>sqlite3</li>\n",
    "    <li>pandas</li>\n",
    "</ul>"
   ]
  },
  {
   "cell_type": "code",
   "execution_count": 1,
   "metadata": {},
   "outputs": [],
   "source": [
    "import sqlite3\n",
    "import pandas as pd"
   ]
  },
  {
   "cell_type": "markdown",
   "metadata": {},
   "source": [
    "### 2º Passo - Criar a variável que irá armazenar o caminho do banco de dados\n"
   ]
  },
  {
   "cell_type": "code",
   "execution_count": 2,
   "metadata": {},
   "outputs": [],
   "source": [
    "#Armazenar o path do arquivo do nosso banco de dados\n",
    "pathBD = \"chinook.db\""
   ]
  },
  {
   "cell_type": "markdown",
   "metadata": {},
   "source": [
    "### 3º Passo - Criar uma função para manipulação dos dados\n",
    "<p>\n",
    "    Através desta função, nós iremos executar comandos SQL, como SELECT, UPDATE, INSERT ou DELETE\n",
    "    </p>"
   ]
  },
  {
   "cell_type": "code",
   "execution_count": 3,
   "metadata": {},
   "outputs": [],
   "source": [
    "def executarComando (comando):\n",
    "    \n",
    "    try:        \n",
    "        #criar a variável de conexão\n",
    "        conexao = sqlite3.connect(pathBD)\n",
    "        \n",
    "        #criar objeto 'cursor', responsável pela execução do comando\n",
    "        cursor = conexao.cursor()\n",
    "        \n",
    "        #executar o comando\n",
    "        cursor.execute(comando)\n",
    "        \n",
    "        #efetuar o comando\n",
    "        conexao.commit()\n",
    "        \n",
    "        #imprimir mensagem de sucesso\n",
    "        print(\"O comando {} foi executado com sucesso!\".format(comando))\n",
    "        \n",
    "    except sqlite3.Error as error:\n",
    "        #imprimir mensagem se houver algum erro na execução\n",
    "        print(\"Falha ao executar comando: \", error)\n",
    "        \n",
    "    finally:\n",
    "        #fechar conexão\n",
    "        if (conexao):\n",
    "            conexao.close()\n",
    "        "
   ]
  },
  {
   "cell_type": "markdown",
   "metadata": {},
   "source": [
    "### 4º Passo - Função para seleção de dados \n",
    "#### Vamos criar uma função genérica para executar o comando SELECT * FROM 'Tabela':\n",
    "<p>\n",
    "    Nesta função, iremos utilizar a biblioteca <b>PANDAS</b> para que o retorno da função, seja um DataFrame. O DataFrame é um conjunto de Séries (um registro do DataFrame) em formato de tabela. Desta forma, com um pouco de conhecimento de 'PANDAS' é possível realizar consultas, aplicar funções de soma, média, etc nos dados extraídos entre outras infinidades de coisas :) \n",
    "</p>\n",
    "<p>\n",
    "    <b>Obs.:</b> <i>em um próximo artigo, vou demonstrar um tutorial básico para o uso da biblioteca 'pandas'</i>\n",
    "</p>"
   ]
  },
  {
   "cell_type": "code",
   "execution_count": 4,
   "metadata": {},
   "outputs": [],
   "source": [
    "def executarSelect(nome_tabela):\n",
    "    try:  \n",
    "        sql = \"SELECT * FROM {}\".format(nome_tabela)\n",
    "        \n",
    "        #criar a variável de conexão\n",
    "        conexao = sqlite3.connect(pathBD)\n",
    "        \n",
    "        #acessar o banco e retornar um DataFrame \n",
    "        df = pd.read_sql_query(sql, conexao)\n",
    "        \n",
    "        #retornando o DataFrame\n",
    "        return df\n",
    "        \n",
    "    except sqlite3.Error as error:\n",
    "        #mostrar mensagem se houver algum erro na execução\n",
    "        print(\"Falha ao executar comando: \", error)\n",
    "        "
   ]
  },
  {
   "cell_type": "markdown",
   "metadata": {},
   "source": [
    "## Utilizando nossas funções"
   ]
  },
  {
   "cell_type": "markdown",
   "metadata": {},
   "source": [
    "<p>\n",
    "    Neste ponto, já criamos as funções necessárias para trabalhar com o banco de dados:\n",
    "</p>\n",
    "<ul>\n",
    "    <li>executarComando(): irá realizar os comandos de INSERT, DELETE ou UPDATE</li>\n",
    "    <li>executarSelect(): executa o comando SELECT retornando um DataFrame</li>\n",
    "</ul>\n",
    "<p>\n",
    "    Desta forma, vamos para aplicação prática!\n",
    "</p>"
   ]
  },
  {
   "cell_type": "markdown",
   "metadata": {},
   "source": [
    "<h3> <i>Função: executarSelect(nome_tabela)</i> </h3>"
   ]
  },
  {
   "cell_type": "markdown",
   "metadata": {},
   "source": [
    "Realizando um SELECT na tabela <b><i>artists</i></b>"
   ]
  },
  {
   "cell_type": "code",
   "execution_count": 5,
   "metadata": {},
   "outputs": [],
   "source": [
    "#armazenar o retorno da função (DataFrame) em uma variável\n",
    "df_artists = executarSelect('artists')"
   ]
  },
  {
   "cell_type": "code",
   "execution_count": 6,
   "metadata": {},
   "outputs": [
    {
     "data": {
      "text/html": [
       "<div>\n",
       "<style scoped>\n",
       "    .dataframe tbody tr th:only-of-type {\n",
       "        vertical-align: middle;\n",
       "    }\n",
       "\n",
       "    .dataframe tbody tr th {\n",
       "        vertical-align: top;\n",
       "    }\n",
       "\n",
       "    .dataframe thead th {\n",
       "        text-align: right;\n",
       "    }\n",
       "</style>\n",
       "<table border=\"1\" class=\"dataframe\">\n",
       "  <thead>\n",
       "    <tr style=\"text-align: right;\">\n",
       "      <th></th>\n",
       "      <th>ArtistId</th>\n",
       "      <th>Name</th>\n",
       "    </tr>\n",
       "  </thead>\n",
       "  <tbody>\n",
       "    <tr>\n",
       "      <th>0</th>\n",
       "      <td>1</td>\n",
       "      <td>AC/DC</td>\n",
       "    </tr>\n",
       "    <tr>\n",
       "      <th>1</th>\n",
       "      <td>2</td>\n",
       "      <td>Accept</td>\n",
       "    </tr>\n",
       "    <tr>\n",
       "      <th>2</th>\n",
       "      <td>3</td>\n",
       "      <td>Aerosmith</td>\n",
       "    </tr>\n",
       "    <tr>\n",
       "      <th>3</th>\n",
       "      <td>4</td>\n",
       "      <td>Alanis Morissette</td>\n",
       "    </tr>\n",
       "    <tr>\n",
       "      <th>4</th>\n",
       "      <td>5</td>\n",
       "      <td>Alice In Chains</td>\n",
       "    </tr>\n",
       "    <tr>\n",
       "      <th>5</th>\n",
       "      <td>6</td>\n",
       "      <td>Antônio Carlos Jobim</td>\n",
       "    </tr>\n",
       "    <tr>\n",
       "      <th>6</th>\n",
       "      <td>7</td>\n",
       "      <td>Apocalyptica</td>\n",
       "    </tr>\n",
       "    <tr>\n",
       "      <th>7</th>\n",
       "      <td>8</td>\n",
       "      <td>Audioslave</td>\n",
       "    </tr>\n",
       "    <tr>\n",
       "      <th>8</th>\n",
       "      <td>9</td>\n",
       "      <td>BackBeat</td>\n",
       "    </tr>\n",
       "    <tr>\n",
       "      <th>9</th>\n",
       "      <td>10</td>\n",
       "      <td>Billy Cobham</td>\n",
       "    </tr>\n",
       "  </tbody>\n",
       "</table>\n",
       "</div>"
      ],
      "text/plain": [
       "   ArtistId                  Name\n",
       "0         1                 AC/DC\n",
       "1         2                Accept\n",
       "2         3             Aerosmith\n",
       "3         4     Alanis Morissette\n",
       "4         5       Alice In Chains\n",
       "5         6  Antônio Carlos Jobim\n",
       "6         7          Apocalyptica\n",
       "7         8            Audioslave\n",
       "8         9              BackBeat\n",
       "9        10          Billy Cobham"
      ]
     },
     "execution_count": 6,
     "metadata": {},
     "output_type": "execute_result"
    }
   ],
   "source": [
    "#obter os 10 primeiros artistas utilizando a função head() do DataFrame\n",
    "df_artists.head(10)"
   ]
  },
  {
   "cell_type": "markdown",
   "metadata": {},
   "source": [
    "<h3> <i>Função: executarComando(comando)</i> </h3>"
   ]
  },
  {
   "cell_type": "markdown",
   "metadata": {},
   "source": [
    "#### Inserindo um registro na tabela <u><i>artists</i></u>"
   ]
  },
  {
   "cell_type": "code",
   "execution_count": 7,
   "metadata": {},
   "outputs": [],
   "source": [
    "#armazenar o comando em uma variável\n",
    "sql_insert = \"INSERT INTO artists ('Name') VALUES ('Sepultura')\""
   ]
  },
  {
   "cell_type": "code",
   "execution_count": 8,
   "metadata": {},
   "outputs": [
    {
     "name": "stdout",
     "output_type": "stream",
     "text": [
      "O comando INSERT INTO artists ('Name') VALUES ('Sepultura') foi executado com sucesso!\n"
     ]
    }
   ],
   "source": [
    "#executar a função\n",
    "executarComando(sql_insert)"
   ]
  },
  {
   "cell_type": "markdown",
   "metadata": {},
   "source": [
    "Vamos verificar se realmente foi inserido? Então vamos realizar um select na tabela e obter a última linha!"
   ]
  },
  {
   "cell_type": "code",
   "execution_count": 9,
   "metadata": {},
   "outputs": [
    {
     "data": {
      "text/html": [
       "<div>\n",
       "<style scoped>\n",
       "    .dataframe tbody tr th:only-of-type {\n",
       "        vertical-align: middle;\n",
       "    }\n",
       "\n",
       "    .dataframe tbody tr th {\n",
       "        vertical-align: top;\n",
       "    }\n",
       "\n",
       "    .dataframe thead th {\n",
       "        text-align: right;\n",
       "    }\n",
       "</style>\n",
       "<table border=\"1\" class=\"dataframe\">\n",
       "  <thead>\n",
       "    <tr style=\"text-align: right;\">\n",
       "      <th></th>\n",
       "      <th>ArtistId</th>\n",
       "      <th>Name</th>\n",
       "    </tr>\n",
       "  </thead>\n",
       "  <tbody>\n",
       "    <tr>\n",
       "      <th>275</th>\n",
       "      <td>276</td>\n",
       "      <td>Sepultura</td>\n",
       "    </tr>\n",
       "  </tbody>\n",
       "</table>\n",
       "</div>"
      ],
      "text/plain": [
       "     ArtistId       Name\n",
       "275       276  Sepultura"
      ]
     },
     "execution_count": 9,
     "metadata": {},
     "output_type": "execute_result"
    }
   ],
   "source": [
    "#verificando se o registro foi inserido \n",
    "#executar o select\n",
    "df_artists = executarSelect('artists')\n",
    "#obter a última linha da tabela com a função tail() do DataFrame\n",
    "df_artists.tail(1)"
   ]
  },
  {
   "cell_type": "markdown",
   "metadata": {},
   "source": [
    "#### Excluindo um registro na tabela <u><i>artists</i></u>"
   ]
  },
  {
   "cell_type": "markdown",
   "metadata": {},
   "source": [
    "Vou excluir o artista com o nome de <b><i>Sepultura<i><b> (ArtistId = 276) neste exemplo:"
   ]
  },
  {
   "cell_type": "code",
   "execution_count": 10,
   "metadata": {},
   "outputs": [],
   "source": [
    "#armazenar o comando em uma variável\n",
    "sql_delete = \"DELETE FROM artists WHERE ArtistId = 276\" "
   ]
  },
  {
   "cell_type": "code",
   "execution_count": 11,
   "metadata": {},
   "outputs": [
    {
     "name": "stdout",
     "output_type": "stream",
     "text": [
      "O comando DELETE FROM artists WHERE ArtistId = 276 foi executado com sucesso!\n"
     ]
    }
   ],
   "source": [
    "#executar a função\n",
    "executarComando(sql_delete)"
   ]
  },
  {
   "cell_type": "markdown",
   "metadata": {},
   "source": [
    "Agora vamos verificar se o registro foi realmente excluído. O artista <b><i>Sepultura</i></b> não deverá estar mais na tabela."
   ]
  },
  {
   "cell_type": "code",
   "execution_count": 12,
   "metadata": {},
   "outputs": [
    {
     "data": {
      "text/html": [
       "<div>\n",
       "<style scoped>\n",
       "    .dataframe tbody tr th:only-of-type {\n",
       "        vertical-align: middle;\n",
       "    }\n",
       "\n",
       "    .dataframe tbody tr th {\n",
       "        vertical-align: top;\n",
       "    }\n",
       "\n",
       "    .dataframe thead th {\n",
       "        text-align: right;\n",
       "    }\n",
       "</style>\n",
       "<table border=\"1\" class=\"dataframe\">\n",
       "  <thead>\n",
       "    <tr style=\"text-align: right;\">\n",
       "      <th></th>\n",
       "      <th>ArtistId</th>\n",
       "      <th>Name</th>\n",
       "    </tr>\n",
       "  </thead>\n",
       "  <tbody>\n",
       "    <tr>\n",
       "      <th>270</th>\n",
       "      <td>271</td>\n",
       "      <td>Mela Tenenbaum, Pro Musica Prague &amp; Richard Kapp</td>\n",
       "    </tr>\n",
       "    <tr>\n",
       "      <th>271</th>\n",
       "      <td>272</td>\n",
       "      <td>Emerson String Quartet</td>\n",
       "    </tr>\n",
       "    <tr>\n",
       "      <th>272</th>\n",
       "      <td>273</td>\n",
       "      <td>C. Monteverdi, Nigel Rogers - Chiaroscuro; Lon...</td>\n",
       "    </tr>\n",
       "    <tr>\n",
       "      <th>273</th>\n",
       "      <td>274</td>\n",
       "      <td>Nash Ensemble</td>\n",
       "    </tr>\n",
       "    <tr>\n",
       "      <th>274</th>\n",
       "      <td>275</td>\n",
       "      <td>Philip Glass Ensemble</td>\n",
       "    </tr>\n",
       "  </tbody>\n",
       "</table>\n",
       "</div>"
      ],
      "text/plain": [
       "     ArtistId                                               Name\n",
       "270       271   Mela Tenenbaum, Pro Musica Prague & Richard Kapp\n",
       "271       272                             Emerson String Quartet\n",
       "272       273  C. Monteverdi, Nigel Rogers - Chiaroscuro; Lon...\n",
       "273       274                                      Nash Ensemble\n",
       "274       275                              Philip Glass Ensemble"
      ]
     },
     "execution_count": 12,
     "metadata": {},
     "output_type": "execute_result"
    }
   ],
   "source": [
    "#verificando se o registro foi inserido \n",
    "#executar o select\n",
    "df_artists = executarSelect('artists')\n",
    "#obter as ultimas 5 linhas da tabela\n",
    "df_artists.tail(5)"
   ]
  },
  {
   "cell_type": "markdown",
   "metadata": {},
   "source": [
    "#### E por último, vamos aplicar uma atualização em um registro na tabela <u><i>artists</i></u>"
   ]
  },
  {
   "cell_type": "markdown",
   "metadata": {},
   "source": [
    "Vamos deixar o nome do artista <b><i>Audioslave<i><b> (ArtistId = 8) em CAIXA ALTA:"
   ]
  },
  {
   "cell_type": "code",
   "execution_count": 13,
   "metadata": {},
   "outputs": [],
   "source": [
    "#armazenar o comando em uma variável\n",
    "sql_update = \"UPDATE artists SET Name = 'AUDIOSLAVE' WHERE ArtistId = 8\""
   ]
  },
  {
   "cell_type": "code",
   "execution_count": 14,
   "metadata": {},
   "outputs": [
    {
     "name": "stdout",
     "output_type": "stream",
     "text": [
      "O comando UPDATE artists SET Name = 'AUDIOSLAVE' WHERE ArtistId = 8 foi executado com sucesso!\n"
     ]
    }
   ],
   "source": [
    "#executar a função\n",
    "executarComando(sql_update)"
   ]
  },
  {
   "cell_type": "code",
   "execution_count": 15,
   "metadata": {},
   "outputs": [
    {
     "data": {
      "text/html": [
       "<div>\n",
       "<style scoped>\n",
       "    .dataframe tbody tr th:only-of-type {\n",
       "        vertical-align: middle;\n",
       "    }\n",
       "\n",
       "    .dataframe tbody tr th {\n",
       "        vertical-align: top;\n",
       "    }\n",
       "\n",
       "    .dataframe thead th {\n",
       "        text-align: right;\n",
       "    }\n",
       "</style>\n",
       "<table border=\"1\" class=\"dataframe\">\n",
       "  <thead>\n",
       "    <tr style=\"text-align: right;\">\n",
       "      <th></th>\n",
       "      <th>ArtistId</th>\n",
       "      <th>Name</th>\n",
       "    </tr>\n",
       "  </thead>\n",
       "  <tbody>\n",
       "    <tr>\n",
       "      <th>0</th>\n",
       "      <td>1</td>\n",
       "      <td>AC/DC</td>\n",
       "    </tr>\n",
       "    <tr>\n",
       "      <th>1</th>\n",
       "      <td>2</td>\n",
       "      <td>Accept</td>\n",
       "    </tr>\n",
       "    <tr>\n",
       "      <th>2</th>\n",
       "      <td>3</td>\n",
       "      <td>Aerosmith</td>\n",
       "    </tr>\n",
       "    <tr>\n",
       "      <th>3</th>\n",
       "      <td>4</td>\n",
       "      <td>Alanis Morissette</td>\n",
       "    </tr>\n",
       "    <tr>\n",
       "      <th>4</th>\n",
       "      <td>5</td>\n",
       "      <td>Alice In Chains</td>\n",
       "    </tr>\n",
       "    <tr>\n",
       "      <th>5</th>\n",
       "      <td>6</td>\n",
       "      <td>Antônio Carlos Jobim</td>\n",
       "    </tr>\n",
       "    <tr>\n",
       "      <th>6</th>\n",
       "      <td>7</td>\n",
       "      <td>Apocalyptica</td>\n",
       "    </tr>\n",
       "    <tr>\n",
       "      <th>7</th>\n",
       "      <td>8</td>\n",
       "      <td>AUDIOSLAVE</td>\n",
       "    </tr>\n",
       "    <tr>\n",
       "      <th>8</th>\n",
       "      <td>9</td>\n",
       "      <td>BackBeat</td>\n",
       "    </tr>\n",
       "    <tr>\n",
       "      <th>9</th>\n",
       "      <td>10</td>\n",
       "      <td>Billy Cobham</td>\n",
       "    </tr>\n",
       "  </tbody>\n",
       "</table>\n",
       "</div>"
      ],
      "text/plain": [
       "   ArtistId                  Name\n",
       "0         1                 AC/DC\n",
       "1         2                Accept\n",
       "2         3             Aerosmith\n",
       "3         4     Alanis Morissette\n",
       "4         5       Alice In Chains\n",
       "5         6  Antônio Carlos Jobim\n",
       "6         7          Apocalyptica\n",
       "7         8            AUDIOSLAVE\n",
       "8         9              BackBeat\n",
       "9        10          Billy Cobham"
      ]
     },
     "execution_count": 15,
     "metadata": {},
     "output_type": "execute_result"
    }
   ],
   "source": [
    "#verificando se o registro foi atualizado\n",
    "#executar o select\n",
    "df_artists = executarSelect('artists')\n",
    "#obter as primeiras 10 linhas da tabela\n",
    "df_artists.head(10)"
   ]
  },
  {
   "cell_type": "code",
   "execution_count": null,
   "metadata": {},
   "outputs": [],
   "source": []
  }
 ],
 "metadata": {
  "kernelspec": {
   "display_name": "Python 3",
   "language": "python",
   "name": "python3"
  },
  "language_info": {
   "codemirror_mode": {
    "name": "ipython",
    "version": 3
   },
   "file_extension": ".py",
   "mimetype": "text/x-python",
   "name": "python",
   "nbconvert_exporter": "python",
   "pygments_lexer": "ipython3",
   "version": "3.6.5"
  }
 },
 "nbformat": 4,
 "nbformat_minor": 2
}
